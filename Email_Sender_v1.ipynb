{
 "cells": [
  {
   "cell_type": "markdown",
   "metadata": {},
   "source": [
    "# Cupid Email Sender v1\n",
    "### by Walter Shen (Imperial College London 3rd year maths undergraduate)\n",
    "### email shen.walter@yahoo.com if bugs\n",
    "\n",
    "last edited 14/02/2022\n",
    "\n",
    "Description: take in the excel file outputted from survey results (ex. from here https://forms.office.com/r/uFxjriiY3p) and send out individualized Valentine's Day emails with user submitted information.\n",
    "\n",
    "But code may not be perfect, things may... break up (get it? terrible Valentine's Day puns)\n",
    "\n",
    "Originally coded for RCSU Valentine's Day 2022 anonymous message service."
   ]
  },
  {
   "cell_type": "markdown",
   "metadata": {},
   "source": [
    "Setup:\n",
    "- change sender_email and smtp_server/port as needed\n",
    "- make sure reading in correct excel file\n",
    "- ensure correct column names are called (this will vary according to your survey)\n",
    "- check password file is correct (aka password stored in plaintext .txt file, which I am aware is very insecure)\n",
    "- consider changing the html file, to make it prettier (my HTML/CSS skills are limited)\n",
    "\n",
    "Other:\n",
    "- on form, ensure recipeint email and message boxes are set as REQUIRED to save time\n",
    "- will have to manually prune any weirdly formatted emails + sketchy messages\n",
    "- manually fix any unsendable emails (ie. incorrect address)\n",
    "- consider doing it in batches to troubleshoot anything that goes wrong in smaller segments\n"
   ]
  },
  {
   "cell_type": "code",
   "execution_count": null,
   "metadata": {},
   "outputs": [],
   "source": [
    "sender_email = \"EMAIL@ic.ac.uk\" # email to send from here"
   ]
  },
  {
   "cell_type": "code",
   "execution_count": null,
   "metadata": {
    "scrolled": true
   },
   "outputs": [],
   "source": [
    "import pandas as pd\n",
    "\n",
    "# read in excel file output from Microsoft Forms\n",
    "data= pd.read_excel(\"RCSU_batch_1.xlsx\")\n",
    "\n",
    "# show first two entries\n",
    "data[0:2]"
   ]
  },
  {
   "cell_type": "code",
   "execution_count": null,
   "metadata": {},
   "outputs": [],
   "source": [
    "# remove the spaces in the column names\n",
    "data.columns = data.columns.str.replace(' ', '')\n",
    "data.columns\n",
    "\n",
    "# in this instance we will be using ID, RecipientName, RecipientEmail, and Message"
   ]
  },
  {
   "cell_type": "code",
   "execution_count": null,
   "metadata": {},
   "outputs": [],
   "source": [
    "# email setup\n",
    "import smtplib, ssl\n",
    "from email.mime.multipart import MIMEMultipart\n",
    "from email.mime.text import MIMEText\n",
    "from email.mime.image import MIMEImage\n",
    "\n",
    "# server details\n",
    "smtp_server = \"smtp.office365.com\"#\"smtp.gmail.com\" # smtp.office365.com\n",
    "# note: for google, had to change security permissions https://www.google.com/settings/security/lesssecureapps\n",
    "port = 587 "
   ]
  },
  {
   "cell_type": "code",
   "execution_count": null,
   "metadata": {},
   "outputs": [],
   "source": [
    "# make sure this cell has no output!\n",
    "f = open(\"cupid_key2.txt\", \"r\") # cupid_key.txt has the password stored in plaintext...\n",
    "password=f.readline()\n",
    "f.close()\n",
    "\n",
    "# create a secure SSL context\n",
    "context = ssl.create_default_context()"
   ]
  },
  {
   "cell_type": "code",
   "execution_count": null,
   "metadata": {},
   "outputs": [],
   "source": [
    "# test the login\n",
    "sending = smtplib.SMTP(smtp_server,port)\n",
    "sending.ehlo()\n",
    "sending.starttls()\n",
    "sending.login(sender_email,password)\n",
    "print(\"logged in!\")"
   ]
  },
  {
   "cell_type": "code",
   "execution_count": null,
   "metadata": {},
   "outputs": [],
   "source": [
    "# startup the email sending\n",
    "sending = smtplib.SMTP(smtp_server,port)\n",
    "sending.ehlo()\n",
    "sending.starttls()\n",
    "sending.login(sender_email,password)\n",
    "print(\"logged in!\")\n",
    "\n",
    "n = len(data.ID) # number of emails that have to be sent\n",
    "for i in range(n):\n",
    "    # Create message container\n",
    "    msg = MIMEMultipart('alternative')\n",
    "    \n",
    "    # Fetch the message body and format the line breaks\n",
    "    message = data.Message[i].replace(\"\\n\",\"<br>\")\n",
    "    \n",
    "    # recipient info (almost certain i spelled recipient wrong...)\n",
    "    to_email = data.RecipientEmail[i]\n",
    "    recpientname= data.RecipientName[i]\n",
    "    \n",
    "    # subject line\n",
    "    subject = f\"{recpientname}, You have a Valentine's day message ❤️\"\n",
    "    \n",
    "    # html format the body + other text, make it look pretty\n",
    "    # preview what message looks like here: https://letterrcsu.w3spaces.com/saved-from-Tryit-2022-02-12.html?bypass-cache=28471499\n",
    "    html =f\"\"\"\n",
    "<html>\n",
    "  <head>\n",
    "    <link href=\"https://fonts.googleapis.com/css2?family=Caveat&family=Dancing+Script&display=swap\" rel=\"stylesheet\">\n",
    "  </head>\n",
    "<body>\n",
    "<div style= 'max-width: 500px;margin: auto; border: 4px dotted #f8b8c0; background-color: #ffcccb; padding: 0px 25px 25px 25px;'>\n",
    "  <p style='color: #a838c9; text-align: center; font-size: 24px; font-family: \"Dancing Script\", cursive;'><strong>A Valentine's message for you</strong></p>\n",
    "  <p style='color: #4c1a5c; font-size: 18px; font-family: \"Caveat\", cursive;'><strong>TO: {recpientname}<br>FROM: Secret Valentine</strong></p>\n",
    "  <p style='color: black; font-size: 16px; font-family: \"Caveat\", cursive;'>{message}</p>\n",
    "</div>\n",
    "\n",
    "<p style='color: red; text-align: center; font: 14px \"Helvetica Neue\"'><strong>Happy Valentine's Day!<br>From Your RCSU Cupids xxx</strong></p>\n",
    "<p style='color: #ee2a7b; text-align: center; font: 10px \"Helvetica Neue\"'><strong>14.02.2022</strong></p>\n",
    "<p style='font: 12px \"Helvetica Neue\"; text-align: center;'><em>DISCLAIMER: We (the Royal College of Science Union, RCSU) are not responsible for the content of the message; we are only passing on the message from an automated and fully anonymized system.</em></p> \n",
    "</body>\n",
    "</html>\n",
    "\"\"\"\n",
    "    \n",
    "    # record MIME html\n",
    "    message_html = MIMEText(html, 'html')\n",
    "\n",
    "    # attach to message container.\n",
    "    msg.attach(message_html)\n",
    "    \n",
    "    # add email details to message container\n",
    "    msg['Subject'] = subject\n",
    "    reciepients = [to_email, sender_email]\n",
    "    msg['To'] = ', '.join(reciepients)\n",
    "    msg['From'] = sender_email\n",
    "    \n",
    "    # sent out the email (also send copy to self)\n",
    "    sending.sendmail(sender_email, to_email, msg.as_string())\n",
    "    print(f\"sent mail number {i+1} of {n} to {to_email}\")\n",
    "    \n",
    "print(\"finished sending emails for batch\")"
   ]
  },
  {
   "cell_type": "code",
   "execution_count": 1,
   "metadata": {},
   "outputs": [],
   "source": [
    "# clears password for security\n",
    "password = 'xx'"
   ]
  },
  {
   "cell_type": "code",
   "execution_count": null,
   "metadata": {},
   "outputs": [],
   "source": []
  }
 ],
 "metadata": {
  "kernelspec": {
   "display_name": "Python 3",
   "language": "python",
   "name": "python3"
  },
  "language_info": {
   "codemirror_mode": {
    "name": "ipython",
    "version": 3
   },
   "file_extension": ".py",
   "mimetype": "text/x-python",
   "name": "python",
   "nbconvert_exporter": "python",
   "pygments_lexer": "ipython3",
   "version": "3.6.8"
  }
 },
 "nbformat": 4,
 "nbformat_minor": 2
}
